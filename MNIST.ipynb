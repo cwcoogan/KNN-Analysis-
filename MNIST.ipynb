{
  "cells": [
    {
      "cell_type": "code",
      "execution_count": 1,
      "metadata": {
        "id": "Ll-gj5OCVrL5"
      },
      "outputs": [],
      "source": [
        "from sklearn.datasets import fetch_openml\n",
        "from sklearn.metrics.pairwise import euclidean_distances\n",
        "from sklearn.model_selection import train_test_split\n",
        "from sklearn.neighbors import KNeighborsClassifier\n",
        "from sklearn.metrics import accuracy_score\n",
        "import matplotlib.pyplot as plt\n",
        "from IPython.display import display, Markdown\n",
        "import pandas as pd\n",
        "import numpy as np"
      ]
    },
    {
      "cell_type": "code",
      "execution_count": null,
      "metadata": {
        "colab": {
          "base_uri": "https://localhost:8080/"
        },
        "id": "8qjYg-0MfTpg",
        "outputId": "f20a57e0-5697-4eea-fda8-ce17cdbcba85"
      },
      "outputs": [],
      "source": [
        "mnist = fetch_openml('mnist_784')"
      ]
    },
    {
      "cell_type": "code",
      "execution_count": 279,
      "metadata": {
        "id": "tNj7GbiA4vkR"
      },
      "outputs": [],
      "source": [
        "# test Data to be used\n",
        "# x_train\n",
        "x_testData = mnist.data[:30000]"
      ]
    },
    {
      "cell_type": "code",
      "execution_count": 280,
      "metadata": {
        "id": "zTet43Y542zQ"
      },
      "outputs": [],
      "source": [
        "# validation \n",
        "trainingData = mnist.data[30001:51001] # x_train x_validation x_test \n",
        "# list of predictions  predictions = [....] \n",
        "y_validation = mnist.target[30001:51001] # y_train y_valid y_test\n"
      ]
    },
    {
      "cell_type": "code",
      "execution_count": 281,
      "metadata": {
        "id": "X-IalO-Q4z5f"
      },
      "outputs": [],
      "source": [
        "# Target Labels [0-9]\n",
        "# y_train\n",
        "y_labelData = mnist.target[:30000] \n"
      ]
    },
    {
      "cell_type": "code",
      "execution_count": 282,
      "metadata": {},
      "outputs": [
        {
          "data": {
            "text/plain": [
              "array([ 2247,   482, 12337, ...,  7073, 13451, 11357])"
            ]
          },
          "execution_count": 282,
          "metadata": {},
          "output_type": "execute_result"
        }
      ],
      "source": [
        "distance = euclidean_distances(x_testData, trainingData)\n",
        "sorted_distance = np.argsort(distance, axis=1) # set axis=1 to specify sorting distances along the rows\n",
        "\n",
        "test_img_index = 0 # set a random index to see the distance from 1 test img to the others\n",
        "distance[test_img_index] # represents the dist from a specific test img to all other training images\n",
        "sorted_distance[test_img_index] # represents the index of the training images that are closest to the test img based on distances"
      ]
    },
    {
      "cell_type": "code",
      "execution_count": 283,
      "metadata": {
        "id": "-hqh7p10jVvC"
      },
      "outputs": [],
      "source": [
        "def KNN(x, y, dist, k):\n",
        "  num_test = len(dist)\n",
        "  predicted_labels = []\n",
        "  for i in range(num_test):\n",
        "    neighbors = dist[i, :k] \n",
        "    labels = y[neighbors]\n",
        "    # print(\"Labels | Predictions \\n\",labels)\n",
        "    p = predict(labels,k)\n",
        "    # print(\"prediction:\" ,p)\n",
        "    predicted_labels.append(p)\n",
        "  return predicted_labels\n",
        "\n",
        "def predict(nLabels, k):\n",
        "    unique_labels, counts = np.unique(nLabels, return_counts=True)\n",
        "    majority_label = unique_labels[np.argmax(counts)]  \n",
        "    return majority_label"
      ]
    },
    {
      "cell_type": "code",
      "execution_count": 311,
      "metadata": {
        "colab": {
          "base_uri": "https://localhost:8080/"
        },
        "id": "CvXV-8OSs-SP",
        "outputId": "342e60ee-d9ba-4efd-f23e-7cade447d67d"
      },
      "outputs": [],
      "source": [
        "k = 500\n",
        "modValue = 10\n",
        "kNearestNeighbor = KNN(x_testData, y_labelData, sorted_distance, k)"
      ]
    },
    {
      "cell_type": "code",
      "execution_count": 312,
      "metadata": {
        "id": "ezaS3b3MqTeT"
      },
      "outputs": [],
      "source": [
        "# predict\n",
        "def get_accuracy(x, y, test_size=0.2, k=k, random_state=42):\n",
        "    accuracy = []\n",
        "    X_train, X_val, y_train, y_val = train_test_split(x, y, test_size=test_size, random_state=random_state)\n",
        "    for i in range(1, k + 1):\n",
        "        if i % modValue == 0:\n",
        "            knn = KNeighborsClassifier(n_neighbors=i)\n",
        "            knn.fit(X_train, y_train)\n",
        "            y_pred = knn.predict(X_val)\n",
        "            accuracy_score_val = accuracy_score(y_val, y_pred)\n",
        "            accuracy.append(accuracy_score_val)\n",
        "    return accuracy"
      ]
    },
    {
      "cell_type": "code",
      "execution_count": 314,
      "metadata": {},
      "outputs": [],
      "source": [
        "# graph for plotting accuracy vs k value (as well as the highest K value)\n",
        "def plot_accuracy(accuracy):\n",
        "    k_values = range(1, len(accuracy) + 1) \n",
        "\n",
        "    max_index = accuracy.index(max(accuracy))\n",
        "    plt.plot(k_values, accuracy, marker='o', label='Accuracy')  \n",
        "    plt.plot(max_index + 1, accuracy[max_index], marker='X', markersize=10, color='red', linestyle='None', label='Highest Accuracy')  # plot a marker at the highest accuracy value\n",
        "\n",
        "    plt.xlabel('K Value')  \n",
        "    plt.ylabel('Accuracy')  \n",
        "    plt.title('Accuracy vs. K Value')  \n",
        "    plt.legend()  \n",
        "    plt.show()  "
      ]
    },
    {
      "cell_type": "code",
      "execution_count": 315,
      "metadata": {},
      "outputs": [],
      "source": [
        "accuracyV = get_accuracy(x_testData, y_labelData)"
      ]
    },
    {
      "cell_type": "code",
      "execution_count": 316,
      "metadata": {
        "colab": {
          "base_uri": "https://localhost:8080/"
        },
        "id": "3Hkw2XUQuRC3",
        "outputId": "95791404-d06d-4dc6-ccf7-619201396908"
      },
      "outputs": [
        {
          "data": {
            "image/png": "[encoded data removed]",
            "text/plain": [
              "<Figure size 640x480 with 1 Axes>"
            ]
          },
          "metadata": {},
          "output_type": "display_data"
        }
      ],
      "source": [
        "# plot accuracy graph\n",
        "plot_accuracy(accuracyV)"
      ]
    },
    {
      "cell_type": "markdown",
      "metadata": {},
      "source": [
        "This chart showcases the value of K as it grows & the accuracy rating.\n",
        "\n",
        "* As K gets larger --> variance falls off\n",
        "* As K gets smaller --> higher variance\n",
        "\n",
        "In KNN, we look for the \"best\" K-Value based upon the lowest error margin between the x_train and validation data."
      ]
    },
    {
      "cell_type": "code",
      "execution_count": 317,
      "metadata": {},
      "outputs": [],
      "source": [
        "# first = labels, k\n",
        "# second = predicted_labels, Accuracy\n",
        "\n",
        "def write_output_to_file(output_file, k, firstColumn, secondColumn):\n",
        "    with open(output_file, 'w') as file:\n",
        "        if len(firstColumn) > 0:\n",
        "            file.write(\"Label | Prediction \\n\")\n",
        "            file.write(\"|:-- |:-- |\\n\")\n",
        "            for i in range(len(secondColumn)):\n",
        "                if i > 50:\n",
        "                    break\n",
        "                file.write(f\" {firstColumn[i]} | {secondColumn[i]} \\n\")\n",
        "        else:\n",
        "            file.write(\"K | Accuracy %\\n\")\n",
        "            file.write(\"|:-- |:-- |\\n\")\n",
        "            for i in range(len(secondColumn)):\n",
        "                file.write(f\" {i * modValue} | {secondColumn[i]:.4f} \\n\")"
      ]
    },
    {
      "cell_type": "code",
      "execution_count": 319,
      "metadata": {},
      "outputs": [],
      "source": [
        "# Write to File:\n",
        "write_output_to_file(\"KvsAccuracy.txt\", k, [], accuracyV)\n",
        "write_output_to_file(\"predictions.txt\", k, y_labelData, kNearestNeighbor)"
      ]
    }
  ],
  "metadata": {
    "colab": {
      "provenance": []
    },
    "kernelspec": {
      "display_name": "Python 3.10.7 64-bit",
      "language": "python",
      "name": "python3"
    },
    "language_info": {
      "codemirror_mode": {
        "name": "ipython",
        "version": 3
      },
      "file_extension": ".py",
      "mimetype": "text/x-python",
      "name": "python",
      "nbconvert_exporter": "python",
      "pygments_lexer": "ipython3",
      "version": "3.10.7"
    },
    "vscode": {
      "interpreter": {
        "hash": "aee8b7b246df8f9039afb4144a1f6fd8d2ca17a180786b69acc140d282b71a49"
      }
    }
  },
  "nbformat": 4,
  "nbformat_minor": 0
}
